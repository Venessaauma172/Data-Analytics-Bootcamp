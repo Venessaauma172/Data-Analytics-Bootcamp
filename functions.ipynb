{
 "cells": [
  {
   "cell_type": "code",
   "execution_count": 1,
   "id": "7bb618a0-b355-4ecd-a314-cf199a1a2615",
   "metadata": {},
   "outputs": [],
   "source": [
    "def family():\n",
    "    print(\"family members\")"
   ]
  },
  {
   "cell_type": "code",
   "execution_count": 2,
   "id": "99456c86-67d0-4053-8cdd-eb81d2f04ad9",
   "metadata": {},
   "outputs": [
    {
     "name": "stdout",
     "output_type": "stream",
     "text": [
      "family members\n"
     ]
    }
   ],
   "source": [
    "family()"
   ]
  },
  {
   "cell_type": "code",
   "execution_count": 3,
   "id": "c920fa9f-5162-4e4e-b42a-13488c6a5279",
   "metadata": {},
   "outputs": [],
   "source": [
    "def add(a,b):\n",
    "    result=a+b\n",
    "    print(result)"
   ]
  },
  {
   "cell_type": "code",
   "execution_count": 4,
   "id": "aaf6f4be-8e5f-4dbc-bab6-6ccdf6401c6f",
   "metadata": {},
   "outputs": [
    {
     "name": "stdout",
     "output_type": "stream",
     "text": [
      "12\n"
     ]
    }
   ],
   "source": [
    "add(6,6)"
   ]
  },
  {
   "cell_type": "code",
   "execution_count": 5,
   "id": "d6fc1eb0-84f4-46e6-af2e-aec9c7fcda47",
   "metadata": {},
   "outputs": [
    {
     "name": "stdout",
     "output_type": "stream",
     "text": [
      "12\n"
     ]
    }
   ],
   "source": [
    "x=add(6,6)"
   ]
  },
  {
   "cell_type": "code",
   "execution_count": 6,
   "id": "7d078dfd-b677-4393-b145-4e1c98fdd466",
   "metadata": {},
   "outputs": [
    {
     "ename": "SyntaxError",
     "evalue": "invalid syntax (1101110660.py, line 1)",
     "output_type": "error",
     "traceback": [
      "\u001b[1;36m  Cell \u001b[1;32mIn[6], line 1\u001b[1;36m\u001b[0m\n\u001b[1;33m    x=add(,\"men\")\u001b[0m\n\u001b[1;37m          ^\u001b[0m\n\u001b[1;31mSyntaxError\u001b[0m\u001b[1;31m:\u001b[0m invalid syntax\n"
     ]
    }
   ],
   "source": [
    "x=add(,\"men\")"
   ]
  },
  {
   "cell_type": "markdown",
   "id": "2b5fb85e-9a55-40b1-9577-595fde260d4e",
   "metadata": {},
   "source": [
    "my list=[1,2,3,4,5]\n",
    "print(my_list[0])"
   ]
  },
  {
   "cell_type": "code",
   "execution_count": 9,
   "id": "c3639545-e8fa-4d96-945b-ab64c6056197",
   "metadata": {},
   "outputs": [
    {
     "data": {
      "text/plain": [
       "'wiu'"
      ]
     },
     "execution_count": 9,
     "metadata": {},
     "output_type": "execute_result"
    }
   ],
   "source": [
    "grocery=[\"tomato\",\"wiu\",\"onion\",]\n",
    "grocery[1]"
   ]
  },
  {
   "cell_type": "code",
   "execution_count": 12,
   "id": "3095ffa4-7045-4d4b-8032-23bb52c18c93",
   "metadata": {},
   "outputs": [
    {
     "name": "stdout",
     "output_type": "stream",
     "text": [
      "['kitungu', 'wiu', 'kitungu', 'cabbage']\n"
     ]
    }
   ],
   "source": [
    "ind=0\n",
    "for item in grocery:\n",
    "    if item==\"onion\":\n",
    "        grocery[ind]=\"kitungu\"\n",
    "    ind=ind+1\n",
    "print(grocery)"
   ]
  },
  {
   "cell_type": "code",
   "execution_count": 11,
   "id": "a4e21d01-7450-4032-a60f-0ec5cf3f5278",
   "metadata": {},
   "outputs": [
    {
     "name": "stdout",
     "output_type": "stream",
     "text": [
      "['kitungu', 'wiu', 'onion', 'cabbage']\n"
     ]
    }
   ],
   "source": [
    "grocery.append(\"cabbage\")\n",
    "print(grocery)"
   ]
  },
  {
   "cell_type": "code",
   "execution_count": null,
   "id": "c99c6d2f-430a-433d-a537-74c4726b4757",
   "metadata": {},
   "outputs": [],
   "source": []
  }
 ],
 "metadata": {
  "kernelspec": {
   "display_name": "Python 3 (ipykernel)",
   "language": "python",
   "name": "python3"
  },
  "language_info": {
   "codemirror_mode": {
    "name": "ipython",
    "version": 3
   },
   "file_extension": ".py",
   "mimetype": "text/x-python",
   "name": "python",
   "nbconvert_exporter": "python",
   "pygments_lexer": "ipython3",
   "version": "3.12.4"
  }
 },
 "nbformat": 4,
 "nbformat_minor": 5
}
